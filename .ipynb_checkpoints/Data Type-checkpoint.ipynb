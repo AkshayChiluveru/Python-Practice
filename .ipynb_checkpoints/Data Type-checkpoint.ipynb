{
 "cells": [
  {
   "cell_type": "code",
   "execution_count": 10,
   "id": "2052aadd",
   "metadata": {},
   "outputs": [
    {
     "name": "stdout",
     "output_type": "stream",
     "text": [
      "8\n"
     ]
    }
   ],
   "source": [
    "from typing import *\n",
    "\n",
    "def Datatypes(type: str):\n",
    "    data_type = {\"Integer\":4,\"Long\":8,\"Float\":4,\"Double\":8,\"Character\":1}\n",
    "    size = data_type.get(type)\n",
    "    if str is not None:\n",
    "        return size\n",
    "    else:\n",
    "        return \"Invalid\"\n",
    "x = Datatypes(\"Long\")\n",
    "print(x)"
   ]
  },
  {
   "cell_type": "code",
   "execution_count": null,
   "id": "eb6d0939",
   "metadata": {},
   "outputs": [],
   "source": []
  }
 ],
 "metadata": {
  "kernelspec": {
   "display_name": "Python 3 (ipykernel)",
   "language": "python",
   "name": "python3"
  },
  "language_info": {
   "codemirror_mode": {
    "name": "ipython",
    "version": 3
   },
   "file_extension": ".py",
   "mimetype": "text/x-python",
   "name": "python",
   "nbconvert_exporter": "python",
   "pygments_lexer": "ipython3",
   "version": "3.9.13"
  }
 },
 "nbformat": 4,
 "nbformat_minor": 5
}
