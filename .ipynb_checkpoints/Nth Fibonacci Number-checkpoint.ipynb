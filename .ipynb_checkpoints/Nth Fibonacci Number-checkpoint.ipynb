{
 "cells": [
  {
   "cell_type": "code",
   "execution_count": 7,
   "id": "325eca2f",
   "metadata": {},
   "outputs": [
    {
     "name": "stdout",
     "output_type": "stream",
     "text": [
      "6\n",
      "8\n"
     ]
    }
   ],
   "source": [
    "n = int(input())\n",
    "a = 0\n",
    "b = 1\n",
    "for i in range(n):\n",
    "    c = a+b\n",
    "    a = b\n",
    "    b = c\n",
    "print(a)"
   ]
  },
  {
   "cell_type": "code",
   "execution_count": 10,
   "id": "f7d20742",
   "metadata": {},
   "outputs": [
    {
     "name": "stdout",
     "output_type": "stream",
     "text": [
      "6\n",
      "1 1 2 3 5 8 "
     ]
    }
   ],
   "source": [
    "## series of fibonicci \n",
    "n = int(input())\n",
    "a = 0\n",
    "b = 1\n",
    "for i in range(n):\n",
    "    c = a+b\n",
    "    a = b\n",
    "    b = c\n",
    "    print(a,end = \" \")"
   ]
  },
  {
   "cell_type": "code",
   "execution_count": null,
   "id": "9867b68f",
   "metadata": {},
   "outputs": [],
   "source": []
  }
 ],
 "metadata": {
  "kernelspec": {
   "display_name": "Python 3 (ipykernel)",
   "language": "python",
   "name": "python3"
  },
  "language_info": {
   "codemirror_mode": {
    "name": "ipython",
    "version": 3
   },
   "file_extension": ".py",
   "mimetype": "text/x-python",
   "name": "python",
   "nbconvert_exporter": "python",
   "pygments_lexer": "ipython3",
   "version": "3.9.13"
  }
 },
 "nbformat": 4,
 "nbformat_minor": 5
}
