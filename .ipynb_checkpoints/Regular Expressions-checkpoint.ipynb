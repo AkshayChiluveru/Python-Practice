{
 "cells": [
  {
   "cell_type": "markdown",
   "id": "a7305a6e",
   "metadata": {},
   "source": [
    "Regular Expression: if we want to represent a group of strings , according to a particular\n",
    "pattern then we should use Regular Expression."
   ]
  },
  {
   "cell_type": "markdown",
   "id": "3fa8a1e0",
   "metadata": {},
   "source": [
    "Examples:\n",
    "    \n",
    "Example of RE --> fixed pattern is there for our mobile numbers\n",
    "(0-9 ,10numbers starting_no --> 6,7,8,9)\n",
    "\n",
    "Example of RE --> Fixed Pattern for PAN Card\n",
    "\n",
    "Example of RE -->fixed pattern for Vechile number\n",
    "\n",
    "Example of RE --> Fixed Pattern is for Password --> strong password,weak,medium\n",
    "\n",
    "Example of RE --> Fixed Pattern for IP Address\n",
    "\n",
    "Example of RE --> Fixed Pattern for IFSC Code\n",
    "\n",
    "Example of RE --> Fix Pattern for websites(www.google.com www.amityuniversity.edu.in)\n",
    "\n",
    "Example of RE --> Fixed pattern is given to our mail id"
   ]
  },
  {
   "cell_type": "markdown",
   "id": "24068723",
   "metadata": {},
   "source": [
    "## Uses of Regular Expression:"
   ]
  },
  {
   "cell_type": "markdown",
   "id": "9f49fbe3",
   "metadata": {},
   "source": [
    "Where we need to use Regular Expression:\n",
    "1.Password\n",
    "2.Validation of Data\n",
    "3.Email\n",
    "4.Translator --> TOC , COMPILER DESIGN\n",
    "5.Digital Circuit\n",
    "6.Protocols like TCP/IP"
   ]
  },
  {
   "cell_type": "markdown",
   "id": "17b47b67",
   "metadata": {},
   "source": [
    "### How we can Implement regular Expression in Python"
   ]
  },
  {
   "cell_type": "markdown",
   "id": "6cf19987",
   "metadata": {},
   "source": [
    "In python Programming for implementing regular expression we are having a module\n",
    "which is known as re and This module is used for regular expression.\n",
    "--> re is the module that we need to import for regular expression."
   ]
  },
  {
   "cell_type": "markdown",
   "id": "9a5cbece",
   "metadata": {},
   "source": [
    "Few Important Function related to Regular Expression(Regex)\n",
    "\n",
    "Finditer() , start(),end() and group() Function"
   ]
  },
  {
   "cell_type": "markdown",
   "id": "ee29ce01",
   "metadata": {},
   "source": [
    "finditer() --> that will take two arguments substring(pattern) and string(input).\n",
    "\n",
    "--> return the iterator object which yields match object for every match.\n",
    "\n",
    "start() --> return the start index of the match\n",
    "\n",
    "end () --> return end+1 index of the match\n",
    "\n",
    "group()--> return the matched string"
   ]
  },
  {
   "cell_type": "markdown",
   "id": "d43e7110",
   "metadata": {},
   "source": [
    "## Python Program to Return the Domain of a Mail"
   ]
  },
  {
   "cell_type": "code",
   "execution_count": 5,
   "id": "9ae73402",
   "metadata": {},
   "outputs": [
    {
     "name": "stdout",
     "output_type": "stream",
     "text": [
      "Enter Your Email Id: akshaynetha2610@gmail.com\n",
      "It is a Gmail\n"
     ]
    }
   ],
   "source": [
    "import re\n",
    "Email_id = input(\"Enter Your Email Id: \")\n",
    "matcher = re.finditer(\"@\",Email_id)\n",
    "for i in matcher:\n",
    "    y=i.start()\n",
    "if Email_id[y+1:] == \"hotmail.com\":\n",
    "    print(\"It is a Hot Mail\")\n",
    "elif Email_id[y+1:] == \"gmail.com\":\n",
    "    print(\"It is a Gmail\")\n",
    "elif Email_id[y+1:] == \"facebook.com\":\n",
    "    print(\"It is a Facebook\")\n",
    "else:\n",
    "    print(\"Enter a valid Account\")"
   ]
  },
  {
   "cell_type": "markdown",
   "id": "08853eb7",
   "metadata": {},
   "source": [
    "re.Match --> check the string at the begining of the string\n",
    "--> re.match() searches only from the beginning of the string and return match object\n",
    "if found. But if a match of substring is found somewhere in the middle of the string,\n",
    "it returns none."
   ]
  },
  {
   "cell_type": "code",
   "execution_count": 23,
   "id": "f338f1cd",
   "metadata": {},
   "outputs": [
    {
     "name": "stdout",
     "output_type": "stream",
     "text": [
      "Enter a String :a\n",
      "Not Found\n"
     ]
    }
   ],
   "source": [
    "import re\n",
    "s=input(\"Enter a String :\")\n",
    "m=re.match(s,\"cab\")\n",
    "if m!=None:\n",
    "    print(\"Match found\")\n",
    "else:\n",
    "    print(\"Not Found\")"
   ]
  },
  {
   "cell_type": "markdown",
   "id": "a75a7139",
   "metadata": {},
   "source": [
    "re.fullmatch --> This function is used to check whole string.\n",
    "--> re.fullmatch() returns a match object if and only if the entre string matches the\n",
    "pattern. Otherwise, it will return None."
   ]
  },
  {
   "cell_type": "code",
   "execution_count": 22,
   "id": "898486f7",
   "metadata": {},
   "outputs": [
    {
     "name": "stdout",
     "output_type": "stream",
     "text": [
      "Enter a String :Akshay\n",
      "Match found\n"
     ]
    }
   ],
   "source": [
    "import re\n",
    "s=input(\"Enter a String :\")\n",
    "m=re.fullmatch(s,\"Akshay\")\n",
    "if m!=None:\n",
    "    print(\"Match found\")\n",
    "else:\n",
    "    print(\"Not Found\")"
   ]
  },
  {
   "cell_type": "markdown",
   "id": "cffd8553",
   "metadata": {},
   "source": [
    "re.search()--> search the given pattern\n",
    "--> re.search() method looks for occurrences of the regex pattern inside the entire\n",
    "target string and returns the corresponding Match Object instance where the\n",
    "match found"
   ]
  },
  {
   "cell_type": "code",
   "execution_count": 25,
   "id": "fbe4491c",
   "metadata": {},
   "outputs": [
    {
     "name": "stdout",
     "output_type": "stream",
     "text": [
      "Enter a String :h\n",
      "Match found\n",
      "3\n"
     ]
    }
   ],
   "source": [
    "import re\n",
    "s=input(\"Enter a String :\")\n",
    "m=re.search(s,\"Akshay\")\n",
    "if m!=None:\n",
    "    print(\"Match found\")\n",
    "    print(m.start())\n",
    "else:\n",
    "    print(\"Not Found\")"
   ]
  },
  {
   "cell_type": "code",
   "execution_count": null,
   "id": "328a8a8f",
   "metadata": {},
   "outputs": [],
   "source": []
  }
 ],
 "metadata": {
  "kernelspec": {
   "display_name": "Python 3 (ipykernel)",
   "language": "python",
   "name": "python3"
  },
  "language_info": {
   "codemirror_mode": {
    "name": "ipython",
    "version": 3
   },
   "file_extension": ".py",
   "mimetype": "text/x-python",
   "name": "python",
   "nbconvert_exporter": "python",
   "pygments_lexer": "ipython3",
   "version": "3.9.13"
  }
 },
 "nbformat": 4,
 "nbformat_minor": 5
}
