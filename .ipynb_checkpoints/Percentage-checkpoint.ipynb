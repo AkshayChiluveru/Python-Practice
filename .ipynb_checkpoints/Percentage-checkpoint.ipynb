{
 "cells": [
  {
   "cell_type": "markdown",
   "id": "8a2d81f9",
   "metadata": {},
   "source": [
    "## Assign a grade to a given percentage, considering the following grade scale: A (90-100), B (80-89), C (70-79), D (60-69), and F (below 60)."
   ]
  },
  {
   "cell_type": "code",
   "execution_count": 3,
   "id": "37ab6395",
   "metadata": {},
   "outputs": [
    {
     "name": "stdout",
     "output_type": "stream",
     "text": [
      "58\n",
      "F\n"
     ]
    }
   ],
   "source": [
    "n = int(input())\n",
    "if n>=90 and n<=100:\n",
    "    print(\"A\")\n",
    "elif n>=80 and n<=89:\n",
    "    print(\"B\")\n",
    "elif n>=70 and n<=79:\n",
    "    print(\"C\")\n",
    "elif n>=60 and n<=69:\n",
    "    print(\"D\")\n",
    "elif n<=59:\n",
    "    print(\"F\")"
   ]
  },
  {
   "cell_type": "code",
   "execution_count": null,
   "id": "bff28876",
   "metadata": {},
   "outputs": [],
   "source": []
  }
 ],
 "metadata": {
  "kernelspec": {
   "display_name": "Python 3 (ipykernel)",
   "language": "python",
   "name": "python3"
  },
  "language_info": {
   "codemirror_mode": {
    "name": "ipython",
    "version": 3
   },
   "file_extension": ".py",
   "mimetype": "text/x-python",
   "name": "python",
   "nbconvert_exporter": "python",
   "pygments_lexer": "ipython3",
   "version": "3.9.13"
  }
 },
 "nbformat": 4,
 "nbformat_minor": 5
}
