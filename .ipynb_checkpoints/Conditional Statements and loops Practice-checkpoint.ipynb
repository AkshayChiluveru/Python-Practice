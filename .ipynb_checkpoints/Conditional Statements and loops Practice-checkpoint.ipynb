{
 "cells": [
  {
   "cell_type": "code",
   "execution_count": 4,
   "id": "d0873359",
   "metadata": {},
   "outputs": [
    {
     "name": "stdout",
     "output_type": "stream",
     "text": [
      "50\n"
     ]
    }
   ],
   "source": [
    "a = 50\n",
    "b = 40\n",
    "c = 30\n",
    "max = a if a>b and b>c else b if b>c else c\n",
    "print(max)"
   ]
  },
  {
   "cell_type": "code",
   "execution_count": 5,
   "id": "a590cfbd",
   "metadata": {},
   "outputs": [
    {
     "data": {
      "text/plain": [
       "1"
      ]
     },
     "execution_count": 5,
     "metadata": {},
     "output_type": "execute_result"
    }
   ],
   "source": [
    "15>>3"
   ]
  },
  {
   "cell_type": "markdown",
   "id": "e4834489",
   "metadata": {},
   "source": [
    "Python Program to count the number of digit in a Number"
   ]
  },
  {
   "cell_type": "code",
   "execution_count": 7,
   "id": "9a73f0cf",
   "metadata": {},
   "outputs": [
    {
     "name": "stdout",
     "output_type": "stream",
     "text": [
      "12345\n",
      "5\n"
     ]
    }
   ],
   "source": [
    "n = int(input())\n",
    "x = str(n)\n",
    "print(len(x))"
   ]
  },
  {
   "cell_type": "code",
   "execution_count": 9,
   "id": "597ca2b7",
   "metadata": {},
   "outputs": [
    {
     "name": "stdout",
     "output_type": "stream",
     "text": [
      "12345\n",
      "5\n"
     ]
    }
   ],
   "source": [
    "n = int(input())\n",
    "c = 0\n",
    "while n!=0:\n",
    "    n = n//10\n",
    "    c +=1\n",
    "print(c)"
   ]
  },
  {
   "cell_type": "markdown",
   "id": "92524b45",
   "metadata": {},
   "source": [
    "program to Check weather a given Number is Armstrong or Not"
   ]
  },
  {
   "cell_type": "code",
   "execution_count": 26,
   "id": "9fedaf65",
   "metadata": {},
   "outputs": [
    {
     "name": "stdout",
     "output_type": "stream",
     "text": [
      "153\n",
      "153\n",
      "Armstrong Number\n"
     ]
    }
   ],
   "source": [
    "n = int(input())\n",
    "sum = 0\n",
    "m = n\n",
    "while n!=0:\n",
    "    rem = n%10\n",
    "    sum = sum+(rem**3)\n",
    "    n = n //10\n",
    "print(sum)   \n",
    "if m == sum:\n",
    "    print(\"Armstrong Number\")\n",
    "else:\n",
    "    print(\"Not Armstrong Number\")"
   ]
  },
  {
   "cell_type": "markdown",
   "id": "efade824",
   "metadata": {},
   "source": [
    "Python program to Check weather a given Number is Strong or Not"
   ]
  },
  {
   "cell_type": "code",
   "execution_count": null,
   "id": "ee241fe6",
   "metadata": {},
   "outputs": [],
   "source": [
    "145 = fact(1)+fact(4)+fact(5)==>1+24+120 ---> 145\n",
    "summation of factorial of the digit is equal to the orginal number"
   ]
  },
  {
   "cell_type": "code",
   "execution_count": 30,
   "id": "873d94d1",
   "metadata": {},
   "outputs": [
    {
     "name": "stdout",
     "output_type": "stream",
     "text": [
      "145\n",
      "145\n"
     ]
    }
   ],
   "source": [
    "import math\n",
    "num = int(input())\n",
    "fact = 0\n",
    "m = num\n",
    "while num!=0:\n",
    "    rem = num%10\n",
    "    fact = fact+math.factorial(rem)\n",
    "    num = num//10\n",
    "print(fact)"
   ]
  },
  {
   "cell_type": "markdown",
   "id": "dfeb604f",
   "metadata": {},
   "source": [
    "Python Program to find the minimun element from a list"
   ]
  },
  {
   "cell_type": "code",
   "execution_count": 35,
   "id": "733c9e0e",
   "metadata": {},
   "outputs": [
    {
     "name": "stdout",
     "output_type": "stream",
     "text": [
      "1\n"
     ]
    }
   ],
   "source": [
    "l = [1,2,3,4,5]\n",
    "print(min(l))"
   ]
  },
  {
   "cell_type": "markdown",
   "id": "653fa1d3",
   "metadata": {},
   "source": [
    "Python Program to find the Product of digits"
   ]
  },
  {
   "cell_type": "code",
   "execution_count": 40,
   "id": "6fb29e66",
   "metadata": {},
   "outputs": [
    {
     "name": "stdout",
     "output_type": "stream",
     "text": [
      "145\n",
      "20\n"
     ]
    }
   ],
   "source": [
    "n = int(input())\n",
    "pro = 1\n",
    "while n!=0:\n",
    "    rem = n%10\n",
    "    pro = pro * rem\n",
    "    n = n//10\n",
    "\n",
    "print(pro)"
   ]
  },
  {
   "cell_type": "markdown",
   "id": "81aaf60d",
   "metadata": {},
   "source": [
    "find the Sum of digits"
   ]
  },
  {
   "cell_type": "code",
   "execution_count": 42,
   "id": "61081449",
   "metadata": {},
   "outputs": [
    {
     "name": "stdout",
     "output_type": "stream",
     "text": [
      "123\n",
      "6\n"
     ]
    }
   ],
   "source": [
    "n = int(input())\n",
    "sum = 0\n",
    "while n!=0:\n",
    "    rem = n%10\n",
    "    sum += rem\n",
    "    n = n//10\n",
    "print(sum)"
   ]
  },
  {
   "cell_type": "code",
   "execution_count": null,
   "id": "398b6b1b",
   "metadata": {},
   "outputs": [],
   "source": [
    "Sum of squares of first n natural numbers"
   ]
  },
  {
   "cell_type": "code",
   "execution_count": 46,
   "id": "e017d4ea",
   "metadata": {},
   "outputs": [
    {
     "name": "stdout",
     "output_type": "stream",
     "text": [
      "5\n",
      "225\n"
     ]
    }
   ],
   "source": [
    "n = int(input())\n",
    "sum = 0\n",
    "for i in range(1,n+1):\n",
    "    sum = sum + i**3\n",
    "print(sum)"
   ]
  },
  {
   "cell_type": "markdown",
   "id": "ee9120df",
   "metadata": {},
   "source": [
    "Write a program to display sum of odd numbers and even numbers that fall between 12 and 37"
   ]
  },
  {
   "cell_type": "code",
   "execution_count": 50,
   "id": "a096f149",
   "metadata": {},
   "outputs": [
    {
     "name": "stdout",
     "output_type": "stream",
     "text": [
      "312\n",
      "325\n"
     ]
    }
   ],
   "source": [
    "even = 0\n",
    "odd = 0\n",
    "for i in range(12,38):\n",
    "    if i%2 == 0:\n",
    "        even+=i\n",
    "#         print(even)\n",
    "    else:\n",
    "        odd +=i\n",
    "print(even)\n",
    "print(odd)"
   ]
  },
  {
   "cell_type": "markdown",
   "id": "79b09236",
   "metadata": {},
   "source": [
    "Write a program to display all the numbers which are divisible by 11 but not by 2 between 100 and 500."
   ]
  },
  {
   "cell_type": "code",
   "execution_count": 51,
   "id": "2b79f7b4",
   "metadata": {},
   "outputs": [
    {
     "name": "stdout",
     "output_type": "stream",
     "text": [
      "121\n",
      "143\n",
      "165\n",
      "187\n",
      "209\n",
      "231\n",
      "253\n",
      "275\n",
      "297\n",
      "319\n",
      "341\n",
      "363\n",
      "385\n",
      "407\n",
      "429\n",
      "451\n",
      "473\n",
      "495\n"
     ]
    }
   ],
   "source": [
    "for i in range(100,501):\n",
    "    if i%11 == 0 and  i %2 !=0:\n",
    "        print(i)"
   ]
  },
  {
   "cell_type": "markdown",
   "id": "8eaadfbb",
   "metadata": {},
   "source": [
    "print numbers from 1 to 20 except multiple of 2 & 3."
   ]
  },
  {
   "cell_type": "code",
   "execution_count": 54,
   "id": "1b989c44",
   "metadata": {},
   "outputs": [
    {
     "name": "stdout",
     "output_type": "stream",
     "text": [
      "1\n",
      "5\n",
      "7\n",
      "11\n",
      "13\n",
      "17\n",
      "19\n"
     ]
    }
   ],
   "source": [
    "for i in range(1,21):\n",
    "    if i%2 != 0 and i%3 != 0:\n",
    "        print(i)"
   ]
  },
  {
   "cell_type": "markdown",
   "id": "87d982e8",
   "metadata": {},
   "source": [
    "Find the factors of the given number"
   ]
  },
  {
   "cell_type": "code",
   "execution_count": 58,
   "id": "c07896fa",
   "metadata": {},
   "outputs": [
    {
     "name": "stdout",
     "output_type": "stream",
     "text": [
      "10\n",
      "1\n",
      "2\n",
      "5\n",
      "10\n"
     ]
    }
   ],
   "source": [
    "n = int(input())\n",
    "for i in range(1,n+1):\n",
    "    if n%i == 0:\n",
    "        print(i)"
   ]
  },
  {
   "cell_type": "code",
   "execution_count": null,
   "id": "a8d835ce",
   "metadata": {},
   "outputs": [],
   "source": [
    "product of digits"
   ]
  },
  {
   "cell_type": "code",
   "execution_count": 65,
   "id": "7fea980d",
   "metadata": {},
   "outputs": [
    {
     "name": "stdout",
     "output_type": "stream",
     "text": [
      "145\n",
      "20\n"
     ]
    }
   ],
   "source": [
    "n = int(input())\n",
    "pro = 1\n",
    "while n!=0:\n",
    "    rem = n%10\n",
    "    pro *= rem\n",
    "    n = n//10\n",
    "print(pro)"
   ]
  },
  {
   "cell_type": "code",
   "execution_count": null,
   "id": "2f0a96da",
   "metadata": {},
   "outputs": [],
   "source": []
  },
  {
   "cell_type": "code",
   "execution_count": null,
   "id": "fbdcf60b",
   "metadata": {},
   "outputs": [],
   "source": []
  },
  {
   "cell_type": "code",
   "execution_count": null,
   "id": "316bbe44",
   "metadata": {},
   "outputs": [],
   "source": []
  }
 ],
 "metadata": {
  "kernelspec": {
   "display_name": "Python 3 (ipykernel)",
   "language": "python",
   "name": "python3"
  },
  "language_info": {
   "codemirror_mode": {
    "name": "ipython",
    "version": 3
   },
   "file_extension": ".py",
   "mimetype": "text/x-python",
   "name": "python",
   "nbconvert_exporter": "python",
   "pygments_lexer": "ipython3",
   "version": "3.9.13"
  }
 },
 "nbformat": 4,
 "nbformat_minor": 5
}
