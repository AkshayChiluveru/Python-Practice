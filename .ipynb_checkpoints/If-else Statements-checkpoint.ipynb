{
 "cells": [
  {
   "cell_type": "markdown",
   "id": "1f92df35",
   "metadata": {},
   "source": [
    "## Classify a given age into four categories: baby, child, teenager, or adult."
   ]
  },
  {
   "cell_type": "code",
   "execution_count": 8,
   "id": "148676a5",
   "metadata": {},
   "outputs": [
    {
     "name": "stdout",
     "output_type": "stream",
     "text": [
      "15\n",
      "Teenager\n"
     ]
    }
   ],
   "source": [
    "n = int(input())\n",
    "if n >=0 and n<=2:\n",
    "    print(\"Baby\")\n",
    "elif n>=3 and n<=14:\n",
    "    print(\"child\")\n",
    "elif n>=15 and n<=22:\n",
    "    print(\"Teenager\")\n",
    "else:\n",
    "    print(\"Adult\")"
   ]
  },
  {
   "cell_type": "code",
   "execution_count": null,
   "id": "333df28c",
   "metadata": {},
   "outputs": [],
   "source": []
  }
 ],
 "metadata": {
  "kernelspec": {
   "display_name": "Python 3 (ipykernel)",
   "language": "python",
   "name": "python3"
  },
  "language_info": {
   "codemirror_mode": {
    "name": "ipython",
    "version": 3
   },
   "file_extension": ".py",
   "mimetype": "text/x-python",
   "name": "python",
   "nbconvert_exporter": "python",
   "pygments_lexer": "ipython3",
   "version": "3.9.13"
  }
 },
 "nbformat": 4,
 "nbformat_minor": 5
}
