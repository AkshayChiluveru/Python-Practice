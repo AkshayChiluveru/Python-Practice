{
 "cells": [
  {
   "cell_type": "markdown",
   "id": "7a1b5693",
   "metadata": {},
   "source": [
    "1. Write a Python program that takes a list of numbers [1, 2, 3, 4, 5] and prints each number on a new line.\n",
    "    \n",
    "    Input: [1, 2, 3, 4, 5]\n",
    "    Expected Output:"
   ]
  },
  {
   "cell_type": "code",
   "execution_count": 16,
   "id": "9d6adf9a",
   "metadata": {},
   "outputs": [
    {
     "name": "stdout",
     "output_type": "stream",
     "text": [
      "1\n",
      "2\n",
      "3\n",
      "4\n",
      "5\n"
     ]
    }
   ],
   "source": [
    "n =[1,2,3,4,5]\n",
    "for num in n:\n",
    "    print(num)"
   ]
  },
  {
   "cell_type": "code",
   "execution_count": 21,
   "id": "d4870596",
   "metadata": {},
   "outputs": [
    {
     "name": "stdout",
     "output_type": "stream",
     "text": [
      "apple banana orange\n"
     ]
    }
   ],
   "source": [
    "l = [\"apple\", \"banana\", \"orange\"]\n",
    "output = \" \".join(l)\n",
    "print(output)"
   ]
  },
  {
   "cell_type": "code",
   "execution_count": 1,
   "id": "e4b08f43",
   "metadata": {},
   "outputs": [
    {
     "name": "stdout",
     "output_type": "stream",
     "text": [
      "12345\n",
      "12345 "
     ]
    }
   ],
   "source": [
    "userInput = int(input())\n",
    "print(userInput,end = \" \")"
   ]
  },
  {
   "cell_type": "code",
   "execution_count": 24,
   "id": "ada36b6d",
   "metadata": {},
   "outputs": [
    {
     "name": "stdout",
     "output_type": "stream",
     "text": [
      "Enter integers separated by space: 2 3 4 5 6 7 8\n",
      "2 3 4 5 6 7 8\n"
     ]
    }
   ],
   "source": [
    "input_str = input(\"Enter integers separated by space: \")\n",
    "\n",
    "input_list = input_str.split()\n",
    "\n",
    "integers = [int(x) for x in input_list]\n",
    "output_str = \" \".join(map(str, integers))\n",
    "print(output_str)\n"
   ]
  },
  {
   "cell_type": "code",
   "execution_count": null,
   "id": "63ff0b7c",
   "metadata": {},
   "outputs": [],
   "source": []
  }
 ],
 "metadata": {
  "kernelspec": {
   "display_name": "Python 3 (ipykernel)",
   "language": "python",
   "name": "python3"
  },
  "language_info": {
   "codemirror_mode": {
    "name": "ipython",
    "version": 3
   },
   "file_extension": ".py",
   "mimetype": "text/x-python",
   "name": "python",
   "nbconvert_exporter": "python",
   "pygments_lexer": "ipython3",
   "version": "3.9.13"
  }
 },
 "nbformat": 4,
 "nbformat_minor": 5
}
