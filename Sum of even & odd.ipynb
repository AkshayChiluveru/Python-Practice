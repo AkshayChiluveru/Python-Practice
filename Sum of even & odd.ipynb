{
 "cells": [
  {
   "cell_type": "code",
   "execution_count": 6,
   "id": "7b3c2416",
   "metadata": {},
   "outputs": [
    {
     "name": "stdout",
     "output_type": "stream",
     "text": [
      "132456\n",
      "Even is: 12 Odd is: 9\n"
     ]
    }
   ],
   "source": [
    "n = int(input())\n",
    "even = 0\n",
    "odd = 0\n",
    "while n>0:\n",
    "    digit = n%10\n",
    "    if n%2==0:\n",
    "        even += digit\n",
    "    else:\n",
    "        odd += digit\n",
    "    n = n//10\n",
    "\n",
    "print(\"Even is:\",even,\"Odd is:\",odd)"
   ]
  },
  {
   "cell_type": "code",
   "execution_count": null,
   "id": "47a4dc4c",
   "metadata": {},
   "outputs": [],
   "source": []
  }
 ],
 "metadata": {
  "kernelspec": {
   "display_name": "Python 3 (ipykernel)",
   "language": "python",
   "name": "python3"
  },
  "language_info": {
   "codemirror_mode": {
    "name": "ipython",
    "version": 3
   },
   "file_extension": ".py",
   "mimetype": "text/x-python",
   "name": "python",
   "nbconvert_exporter": "python",
   "pygments_lexer": "ipython3",
   "version": "3.9.13"
  }
 },
 "nbformat": 4,
 "nbformat_minor": 5
}
