{
 "cells": [
  {
   "cell_type": "markdown",
   "id": "da111a23",
   "metadata": {},
   "source": [
    "## Manual Testing"
   ]
  },
  {
   "cell_type": "markdown",
   "id": "c09f08c0",
   "metadata": {},
   "source": [
    "Meaning of Testing: Testing is a process by which we can validate ,verify and check our applications/softwares.\n",
    "    It is basically used to check how much your software is upto mark."
   ]
  },
  {
   "cell_type": "markdown",
   "id": "b2662b30",
   "metadata": {},
   "source": [
    "## Types of Testing :"
   ]
  },
  {
   "cell_type": "markdown",
   "id": "5a11ed86",
   "metadata": {},
   "source": [
    " Unit Testing : \n",
    "It focuses on the smallest unit of software design. In this, we test an individual unit or group of\n",
    "interrelated units."
   ]
  },
  {
   "cell_type": "markdown",
   "id": "d36dc0fb",
   "metadata": {},
   "source": [
    "Integration Testing : The objective is to take unit-tested components and build a program structure that has been\n",
    "dictated by design.\n",
    "Integration testing is testing in which a group of components is combined to produce output."
   ]
  },
  {
   "cell_type": "markdown",
   "id": "7804025b",
   "metadata": {},
   "source": [
    "System Testing : System testing is testing conducted on a complete integrated system to evaluate the system's \n",
    " compliance with its specified requirements."
   ]
  },
  {
   "cell_type": "markdown",
   "id": "17f1727d",
   "metadata": {},
   "source": [
    "Smoke Testing : Smoke Testing is a software testing method that determines whether the employed build is\n",
    " stable or not"
   ]
  },
  {
   "cell_type": "markdown",
   "id": "f0cf43ca",
   "metadata": {},
   "source": [
    "Acceptance Testing : Acceptance Testing is the last phase of software testing performed after System Testing and\n",
    "before making the system available for actual use.\n"
   ]
  },
  {
   "cell_type": "markdown",
   "id": "7f3b2ae0",
   "metadata": {},
   "source": [
    "## FrameWork present in python testing:"
   ]
  },
  {
   "cell_type": "markdown",
   "id": "392cce6f",
   "metadata": {},
   "source": [
    "Frameworks that are present in Python :\n",
    "    1. Unittest\n",
    "    2. pytest\n",
    "    3. Doctest\n",
    "    4. Testify...."
   ]
  },
  {
   "cell_type": "markdown",
   "id": "b1b87f66",
   "metadata": {},
   "source": [
    "## About Pytest:"
   ]
  },
  {
   "cell_type": "markdown",
   "id": "ca5840fa",
   "metadata": {},
   "source": [
    "pytest is framework in python that is used to write our own test cases based on certain inputs or criteria using python programming language."
   ]
  },
  {
   "cell_type": "markdown",
   "id": "765eb8ee",
   "metadata": {},
   "source": [
    "## Important Note: "
   ]
  },
  {
   "cell_type": "markdown",
   "id": "8cf05748",
   "metadata": {},
   "source": [
    " You cannot directly use pytest for using pytest you need to use either teriminal or command prompt\n",
    " Command : pytest file_name.py"
   ]
  },
  {
   "cell_type": "markdown",
   "id": "eaddbf82",
   "metadata": {},
   "source": [
    "## PDB (Python Debugger)"
   ]
  },
  {
   "cell_type": "markdown",
   "id": "81a38d99",
   "metadata": {},
   "source": [
    "It is also a module of python that will help you to debug your.py file. Internally it makes(basic debugger functions)\n",
    " and cmd. pdb is stand for Python debugger.\n",
    " Command for start debugger : python -m pdb pdbdemo.py"
   ]
  },
  {
   "cell_type": "markdown",
   "id": "0dde4d2f",
   "metadata": {},
   "source": [
    "## Example"
   ]
  },
  {
   "cell_type": "code",
   "execution_count": 2,
   "id": "29809004",
   "metadata": {},
   "outputs": [
    {
     "name": "stdout",
     "output_type": "stream",
     "text": [
      "Enter a Number :3\n",
      "Enter a Number :4\n",
      "7\n"
     ]
    }
   ],
   "source": [
    "import pdb\n",
    "def add(x,y):\n",
    "    return x+y\n",
    "x=int(input(\"Enter a Number :\"))\n",
    "y=int(input(\"Enter a Number :\"))\n",
    "z=add(x,y)\n",
    "print(z)"
   ]
  },
  {
   "cell_type": "code",
   "execution_count": null,
   "id": "673a326c",
   "metadata": {},
   "outputs": [],
   "source": []
  }
 ],
 "metadata": {
  "kernelspec": {
   "display_name": "Python 3 (ipykernel)",
   "language": "python",
   "name": "python3"
  },
  "language_info": {
   "codemirror_mode": {
    "name": "ipython",
    "version": 3
   },
   "file_extension": ".py",
   "mimetype": "text/x-python",
   "name": "python",
   "nbconvert_exporter": "python",
   "pygments_lexer": "ipython3",
   "version": "3.9.13"
  }
 },
 "nbformat": 4,
 "nbformat_minor": 5
}
