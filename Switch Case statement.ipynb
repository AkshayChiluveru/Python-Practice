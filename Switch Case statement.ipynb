{
 "cells": [
  {
   "cell_type": "code",
   "execution_count": 17,
   "id": "3aad3a58",
   "metadata": {},
   "outputs": [],
   "source": [
    "from typing import *\n",
    "import math\n",
    "def areaSwitchCase(ch: int, a: List[float]):\n",
    "    area=0.0\n",
    "    if ch==1:\n",
    "        area = math.pi*a[0]*a[0]\n",
    "    if ch==2:\n",
    "        area = a[0]*a[1]\n",
    "    return \"{:.5f}\".format(area)\n"
   ]
  },
  {
   "cell_type": "markdown",
   "id": "b956952f",
   "metadata": {},
   "source": [
    " "
   ]
  }
 ],
 "metadata": {
  "kernelspec": {
   "display_name": "Python 3 (ipykernel)",
   "language": "python",
   "name": "python3"
  },
  "language_info": {
   "codemirror_mode": {
    "name": "ipython",
    "version": 3
   },
   "file_extension": ".py",
   "mimetype": "text/x-python",
   "name": "python",
   "nbconvert_exporter": "python",
   "pygments_lexer": "ipython3",
   "version": "3.9.13"
  }
 },
 "nbformat": 4,
 "nbformat_minor": 5
}
