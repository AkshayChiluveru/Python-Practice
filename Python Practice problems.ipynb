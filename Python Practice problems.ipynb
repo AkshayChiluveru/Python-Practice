{
 "cells": [
  {
   "cell_type": "markdown",
   "id": "8b1dd34e",
   "metadata": {},
   "source": [
    "You are provided with a number \"N\", Find the Nth term of the series: 1, 4, 9, 16, 25, 36, 49, 64, 81, .......\n",
    "\n",
    "(Print \"Error\" if N = negative value and 0 if N = 0).\n",
    "\n",
    "Input Description:\n",
    "An integer N is provided to you as the input.\n",
    "\n",
    "Output Description:\n",
    "Find the Nth term in the provided series.\n",
    "\n",
    "Sample Input :\n",
    "18\n",
    "Sample Output :\n",
    "324"
   ]
  },
  {
   "cell_type": "code",
   "execution_count": 3,
   "id": "4893f578",
   "metadata": {},
   "outputs": [
    {
     "name": "stdout",
     "output_type": "stream",
     "text": [
      "-12\n",
      "Negative\n"
     ]
    }
   ],
   "source": [
    "n = int(input())\n",
    "if n<0:\n",
    "    print(\"Negative\")\n",
    "elif n>0:\n",
    "    s = n*n\n",
    "    print(s)\n",
    "else:\n",
    "    print(0)"
   ]
  },
  {
   "cell_type": "markdown",
   "id": "a87b3d6c",
   "metadata": {},
   "source": [
    "The area of an equilateral triangle is ¼(√3a2) where \"a\" represents a side of the triangle. You are provided with the side \"a\". Find the area of the equilateral triangle.\n",
    "\n",
    "Input Description:\n",
    "The side of an equilateral triangle is provided as the input.\n",
    "\n",
    "Output Description:\n",
    "Find the area of the equilateral triangle and print the answer up to 2 decimal places after rounding off.\n",
    "\n",
    "Sample Input :\n",
    "20\n",
    "Sample Output :\n",
    "173.21"
   ]
  },
  {
   "cell_type": "code",
   "execution_count": 4,
   "id": "3d239806",
   "metadata": {},
   "outputs": [
    {
     "name": "stdout",
     "output_type": "stream",
     "text": [
      "4\n",
      "6.928203230275509\n"
     ]
    }
   ],
   "source": [
    "import math\n",
    "a = int(input())\n",
    "equi_tri = (math.sqrt(3)/4)*a*a\n",
    "print(equi_tri)"
   ]
  },
  {
   "cell_type": "markdown",
   "id": "68126d0b",
   "metadata": {},
   "source": [
    "Find the minimum among 10 numbers.\n",
    "Sample Testcase :\n",
    "INPUT\n",
    "5 4 3 2 1 7 6 10 8 9\n",
    "OUTPUT\n",
    "1"
   ]
  },
  {
   "cell_type": "code",
   "execution_count": 5,
   "id": "b4ed41dd",
   "metadata": {},
   "outputs": [
    {
     "name": "stdout",
     "output_type": "stream",
     "text": [
      "5 4 3 2 1 6 7 8 9 10\n"
     ]
    },
    {
     "data": {
      "text/plain": [
       "1"
      ]
     },
     "execution_count": 5,
     "metadata": {},
     "output_type": "execute_result"
    }
   ],
   "source": [
    "num = list(map(int,input().split()))\n",
    "minimum = min(num)\n",
    "minimum"
   ]
  },
  {
   "cell_type": "markdown",
   "id": "77dd72c1",
   "metadata": {},
   "source": [
    "Write a code to get an integer N and print the even values from 1 till N in a separate line.\n",
    "\n",
    "Input Description:\n",
    "A single line contains an integer N.\n",
    "\n",
    "Output Description:\n",
    "Print the even values from 1 to N in a separate line.\n",
    "\n",
    "Sample Input :\n",
    "6\n",
    "Sample Output :\n",
    "2\n",
    "4\n",
    "6"
   ]
  },
  {
   "cell_type": "code",
   "execution_count": 8,
   "id": "d968b106",
   "metadata": {},
   "outputs": [
    {
     "name": "stdout",
     "output_type": "stream",
     "text": [
      "6\n",
      "2\n",
      "4\n",
      "6\n"
     ]
    }
   ],
   "source": [
    "n = int(input())\n",
    "for i in range(1,n+1):\n",
    "    if i%2== 0:\n",
    "        print(i)\n",
    "        "
   ]
  },
  {
   "cell_type": "markdown",
   "id": "72a0b5ae",
   "metadata": {},
   "source": [
    "Given 2 numbers N,M. Print 'yes' if their product is a perfect square else print 'no'.\n",
    "Sample Testcase :\n",
    "INPUT\n",
    "5 5\n",
    "OUTPUT\n",
    "yes"
   ]
  },
  {
   "cell_type": "code",
   "execution_count": 11,
   "id": "59a13e7f",
   "metadata": {},
   "outputs": [
    {
     "name": "stdout",
     "output_type": "stream",
     "text": [
      "5 5\n",
      "yes\n"
     ]
    }
   ],
   "source": [
    "n,m = map(int,input().split())\n",
    "product = n*m\n",
    "if int(product ** 0.5)**2 == product:\n",
    "    print(\"yes\")\n",
    "else:\n",
    "    print(\"no\")"
   ]
  },
  {
   "cell_type": "markdown",
   "id": "20ee64be",
   "metadata": {},
   "source": [
    "Given 2 numbers N and M add both the numbers and check whether the sum is odd or even.\n",
    "Sample Testcase :\n",
    "INPUT\n",
    "9 2\n",
    "OUTPUT\n",
    "odd"
   ]
  },
  {
   "cell_type": "code",
   "execution_count": null,
   "id": "d9ffa197",
   "metadata": {},
   "outputs": [],
   "source": [
    "n,m = map(input().split())\n",
    "sum = n+m\n",
    "if sum %2 == 0:\n",
    "    print(\"even\")\n",
    "else:\n",
    "    print()"
   ]
  },
  {
   "cell_type": "code",
   "execution_count": null,
   "id": "e28e7e6e",
   "metadata": {},
   "outputs": [],
   "source": []
  },
  {
   "cell_type": "code",
   "execution_count": null,
   "id": "1ac138d3",
   "metadata": {},
   "outputs": [],
   "source": []
  },
  {
   "cell_type": "code",
   "execution_count": null,
   "id": "362ddb03",
   "metadata": {},
   "outputs": [],
   "source": []
  }
 ],
 "metadata": {
  "kernelspec": {
   "display_name": "Python 3 (ipykernel)",
   "language": "python",
   "name": "python3"
  },
  "language_info": {
   "codemirror_mode": {
    "name": "ipython",
    "version": 3
   },
   "file_extension": ".py",
   "mimetype": "text/x-python",
   "name": "python",
   "nbconvert_exporter": "python",
   "pygments_lexer": "ipython3",
   "version": "3.9.13"
  }
 },
 "nbformat": 4,
 "nbformat_minor": 5
}
