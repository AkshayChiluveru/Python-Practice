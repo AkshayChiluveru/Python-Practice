{
 "cells": [
  {
   "cell_type": "code",
   "execution_count": 13,
   "id": "4ccef59f",
   "metadata": {},
   "outputs": [
    {
     "name": "stdout",
     "output_type": "stream",
     "text": [
      "Hello Hello\n",
      "Hello Hello\n",
      "Hello Hello\n",
      "Hello Hello\n"
     ]
    }
   ],
   "source": [
    "for i in range(1,5):\n",
    "    for j in range(1,5):\n",
    "        if j ==2:\n",
    "            break\n",
    "        print(\"Hello\",end = \" \")\n",
    "    print(\"Hello\")"
   ]
  },
  {
   "cell_type": "markdown",
   "id": "f11b8154",
   "metadata": {},
   "source": [
    "Examples of User defined Functions:"
   ]
  },
  {
   "cell_type": "code",
   "execution_count": 24,
   "id": "d331a1e6",
   "metadata": {},
   "outputs": [
    {
     "name": "stdout",
     "output_type": "stream",
     "text": [
      "25\n"
     ]
    }
   ],
   "source": [
    "def square(r):\n",
    "    return r**2\n",
    "x = square(5)\n",
    "print(x)"
   ]
  },
  {
   "cell_type": "markdown",
   "id": "35b55b0e",
   "metadata": {},
   "source": [
    "# Lambda Function"
   ]
  },
  {
   "cell_type": "markdown",
   "id": "dcac921a",
   "metadata": {},
   "source": [
    " - We can define lambda function in python with the help of lambda Keyword\n",
    " - Syntax of lambda Function:\n",
    " - lambda parameter : expression\n",
    " - Basically lambda function is used to make your code concise and it increses readibility."
   ]
  },
  {
   "cell_type": "markdown",
   "id": "cac4f9ab",
   "metadata": {},
   "source": [
    "Python Program to find the square of a Number with and Without Lambda Function"
   ]
  },
  {
   "cell_type": "code",
   "execution_count": 27,
   "id": "785f68d5",
   "metadata": {},
   "outputs": [
    {
     "name": "stdout",
     "output_type": "stream",
     "text": [
      "5\n",
      "25\n"
     ]
    }
   ],
   "source": [
    "def square(r):\n",
    "    return r**2\n",
    "n = int(input())\n",
    "x = square(n)\n",
    "print(x)"
   ]
  },
  {
   "cell_type": "code",
   "execution_count": 28,
   "id": "ad9386ac",
   "metadata": {},
   "outputs": [
    {
     "name": "stdout",
     "output_type": "stream",
     "text": [
      "4\n",
      "16\n"
     ]
    }
   ],
   "source": [
    "x = lambda n:n**2\n",
    "n = int(input())\n",
    "print(x(n))"
   ]
  },
  {
   "cell_type": "code",
   "execution_count": 1,
   "id": "b748db39",
   "metadata": {},
   "outputs": [
    {
     "name": "stdout",
     "output_type": "stream",
     "text": [
      "[16, 49, 4, 81, 25]\n"
     ]
    }
   ],
   "source": [
    "l2 = [4,7,2,9,5]\n",
    "l1 = []\n",
    "for i in l2:\n",
    "    temp = lambda i : i**2\n",
    "    l1.append(temp(i))\n",
    "print(l1)"
   ]
  },
  {
   "cell_type": "code",
   "execution_count": null,
   "id": "b1dc064d",
   "metadata": {},
   "outputs": [],
   "source": [
    "Program to find the addition of two Numbers with and Without Lambda Function"
   ]
  },
  {
   "cell_type": "code",
   "execution_count": 33,
   "id": "d8d89179",
   "metadata": {},
   "outputs": [
    {
     "name": "stdout",
     "output_type": "stream",
     "text": [
      "9\n"
     ]
    }
   ],
   "source": [
    "def add(x,y):\n",
    "    return x+y\n",
    "z = add(5,4)\n",
    "print(z)"
   ]
  },
  {
   "cell_type": "code",
   "execution_count": 35,
   "id": "58725bde",
   "metadata": {},
   "outputs": [
    {
     "name": "stdout",
     "output_type": "stream",
     "text": [
      "15\n"
     ]
    }
   ],
   "source": [
    "add = lambda x,y : x+y\n",
    "print(add(5,10))"
   ]
  },
  {
   "cell_type": "markdown",
   "id": "6b34bd43",
   "metadata": {},
   "source": [
    "Python Program to find the maximum of two Numbers with and Without Lambda Function"
   ]
  },
  {
   "cell_type": "code",
   "execution_count": 39,
   "id": "a86d9ba2",
   "metadata": {},
   "outputs": [
    {
     "name": "stdout",
     "output_type": "stream",
     "text": [
      "b\n"
     ]
    }
   ],
   "source": [
    "def maxi(a,b):\n",
    "    if a>b:\n",
    "        return \"a\"\n",
    "    else:\n",
    "        return \"b\"\n",
    "z = maxi(10,20)\n",
    "print(z)"
   ]
  },
  {
   "cell_type": "code",
   "execution_count": 45,
   "id": "7499617c",
   "metadata": {},
   "outputs": [
    {
     "name": "stdout",
     "output_type": "stream",
     "text": [
      "b\n"
     ]
    }
   ],
   "source": [
    "s = lambda a,b: \"a\" if a>b else \"b\"\n",
    "print(s(10,20))"
   ]
  },
  {
   "cell_type": "markdown",
   "id": "db41d4a6",
   "metadata": {},
   "source": [
    "Python Program to Check weather a Given Number is Even or Odd with lambda Function"
   ]
  },
  {
   "cell_type": "code",
   "execution_count": 47,
   "id": "f3d4b27b",
   "metadata": {},
   "outputs": [
    {
     "name": "stdout",
     "output_type": "stream",
     "text": [
      "odd\n"
     ]
    }
   ],
   "source": [
    "even = lambda i : \"Even\" if i%2==0 else \"odd\"\n",
    "print(even(5))"
   ]
  },
  {
   "cell_type": "code",
   "execution_count": 2,
   "id": "af07230f",
   "metadata": {},
   "outputs": [
    {
     "name": "stdout",
     "output_type": "stream",
     "text": [
      "[10, 20, 14, 20]\n"
     ]
    }
   ],
   "source": [
    "#Without lambda Functions\n",
    "def is_even(x):\n",
    "    if x%2==0:\n",
    "        return True\n",
    "    return False\n",
    "numbers = [10,20,14,20,25,19,27]\n",
    "l1=list(filter(is_even, numbers))\n",
    "print(l1)\n"
   ]
  },
  {
   "cell_type": "code",
   "execution_count": 3,
   "id": "2c72937a",
   "metadata": {},
   "outputs": [
    {
     "name": "stdout",
     "output_type": "stream",
     "text": [
      "[100, 200]\n"
     ]
    }
   ],
   "source": [
    "cart = [100,200,500,700,800,900,1000,1200,1400,1600]\n",
    "l1=list(filter(lambda x:x<500, cart))\n",
    "print(l1)"
   ]
  },
  {
   "cell_type": "code",
   "execution_count": 9,
   "id": "f0fccf00",
   "metadata": {},
   "outputs": [
    {
     "name": "stdout",
     "output_type": "stream",
     "text": [
      "[7, 14, 21, 28, 35, 42, 49, 56, 63, 70, 77, 84, 91, 98]\n"
     ]
    }
   ],
   "source": [
    "mul_7 = list(filter(lambda n: n%7 == 0 ,range(1,100)))\n",
    "print(mul_7)"
   ]
  },
  {
   "cell_type": "code",
   "execution_count": null,
   "id": "25553241",
   "metadata": {},
   "outputs": [],
   "source": []
  }
 ],
 "metadata": {
  "kernelspec": {
   "display_name": "Python 3 (ipykernel)",
   "language": "python",
   "name": "python3"
  },
  "language_info": {
   "codemirror_mode": {
    "name": "ipython",
    "version": 3
   },
   "file_extension": ".py",
   "mimetype": "text/x-python",
   "name": "python",
   "nbconvert_exporter": "python",
   "pygments_lexer": "ipython3",
   "version": "3.9.13"
  }
 },
 "nbformat": 4,
 "nbformat_minor": 5
}
